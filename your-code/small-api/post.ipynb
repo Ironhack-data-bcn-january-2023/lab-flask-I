{
 "cells": [
  {
   "cell_type": "code",
   "execution_count": 23,
   "metadata": {},
   "outputs": [
    {
     "data": {
      "text/plain": [
       "<Response [500]>"
      ]
     },
     "execution_count": 23,
     "metadata": {},
     "output_type": "execute_result"
    }
   ],
   "source": [
    "import requests\n",
    "\n",
    "params = {\"emp_no\": 12345, \n",
    "\"birth_date\": \"1965-01-01\", \n",
    "\"first_name\": \"John\", \n",
    "\"last_name\": \"Doe\",\n",
    "\"gender\": \"M\", \n",
    "\"hire_date\": \"1990-01-01\"}\n",
    "requests.post(\"http://127.0.0.1:7080/insert-into-employees\", params = params)"
   ]
  },
  {
   "cell_type": "code",
   "execution_count": 18,
   "metadata": {},
   "outputs": [
    {
     "data": {
      "text/plain": [
       "{'emp_no': 12345,\n",
       " 'birth_date': '1965-01-01',\n",
       " 'first_name': 'John',\n",
       " 'last_name': 'Doe',\n",
       " 'gender': 'M',\n",
       " 'hire_date': '1990-01-01'}"
      ]
     },
     "execution_count": 18,
     "metadata": {},
     "output_type": "execute_result"
    }
   ],
   "source": [
    "params"
   ]
  },
  {
   "cell_type": "code",
   "execution_count": null,
   "metadata": {},
   "outputs": [],
   "source": []
  }
 ],
 "metadata": {
  "kernelspec": {
   "display_name": "ironhack",
   "language": "python",
   "name": "python3"
  },
  "language_info": {
   "codemirror_mode": {
    "name": "ipython",
    "version": 3
   },
   "file_extension": ".py",
   "mimetype": "text/x-python",
   "name": "python",
   "nbconvert_exporter": "python",
   "pygments_lexer": "ipython3",
   "version": "3.9.12"
  },
  "orig_nbformat": 4,
  "vscode": {
   "interpreter": {
    "hash": "2a1c6cc0e575e53df702ef0d39cf984f93bf1844fc948c2624455db9fc96d405"
   }
  }
 },
 "nbformat": 4,
 "nbformat_minor": 2
}
